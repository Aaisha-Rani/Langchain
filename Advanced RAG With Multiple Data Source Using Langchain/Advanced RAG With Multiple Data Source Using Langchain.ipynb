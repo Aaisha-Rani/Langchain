{
 "cells": [
  {
   "cell_type": "code",
   "execution_count": null,
   "id": "5ae40965",
   "metadata": {
    "scrolled": true
   },
   "outputs": [],
   "source": [
    "\n",
    "#Install the necessary package\n",
    "pip install langchain_openai"
   ]
  },
  {
   "cell_type": "code",
   "execution_count": null,
   "id": "25b72591",
   "metadata": {},
   "outputs": [],
   "source": [
    "\n",
    "pip install langchain_community"
   ]
  },
  {
   "cell_type": "code",
   "execution_count": null,
   "id": "27960060",
   "metadata": {},
   "outputs": [],
   "source": [
    "pip install langchain_text_splitters"
   ]
  },
  {
   "cell_type": "code",
   "execution_count": null,
   "id": "2b585adf",
   "metadata": {},
   "outputs": [],
   "source": [
    "pip install langserve"
   ]
  },
  {
   "cell_type": "code",
   "execution_count": null,
   "id": "1bcfac66",
   "metadata": {},
   "outputs": [],
   "source": [
    "pip install faiss_cpu"
   ]
  },
  {
   "cell_type": "code",
   "execution_count": null,
   "id": "d32d95d1",
   "metadata": {},
   "outputs": [],
   "source": [
    "from langchain.vectorstores import FAISS\n",
    "from langchain.embeddings import OpenAIEmbeddings"
   ]
  },
  {
   "cell_type": "code",
   "execution_count": null,
   "id": "feae26f4",
   "metadata": {},
   "outputs": [],
   "source": [
    "#importing all the necessary libraries\n",
    "from langchain_community.tools import WikipediaQueryRun\n",
    "from langchain_community.utilities import WikipediaAPIWrapper"
   ]
  },
  {
   "cell_type": "code",
   "execution_count": null,
   "id": "7345ab15",
   "metadata": {},
   "outputs": [],
   "source": []
  },
  {
   "cell_type": "code",
   "execution_count": 9,
   "id": "f546965e",
   "metadata": {},
   "outputs": [
    {
     "name": "stdout",
     "output_type": "stream",
     "text": [
      "wikipedia\n"
     ]
    }
   ],
   "source": [
    "api_wrapper=WikipediaAPIWrapper(top_k_results=1, doc_content_chars_max=250)\n",
    "wiki=WikipediaQueryRun(api_wrapper=api_wrapper)  \n",
    "\n",
    "#WikipediaAPIWrapper helps in interactiing with the api of wikipedia\n",
    "#WikipediaQueryRun helps in running the api wrapper\n",
    "\n",
    "print(wiki.name)"
   ]
  },
  {
   "cell_type": "code",
   "execution_count": null,
   "id": "7064c031",
   "metadata": {},
   "outputs": [],
   "source": [
    "from langchain_community.document_loaders import WebBaseLoader\n",
    "from langchain_community.vectorstores import FAISS\n",
    "from langchain_openai import OpenAIEmbeddings\n",
    "from langchain_text_splitters import RecursiveCharacterTextSplitter\n",
    "\n",
    "# Step 1: Load documents from the web\n",
    "loader = WebBaseLoader(\"https://docs.smith.langchain.com/\")\n",
    "docs = loader.load()\n",
    "\n",
    "# Step 2: Split the documents into smaller chunks\n",
    "text_splitter = RecursiveCharacterTextSplitter(chunk_size=1000, chunk_overlap=200)\n",
    "documents = text_splitter.split_documents(docs)\n",
    "\n",
    "# Step 3: Initialize OpenAIEmbeddings with API key\n",
    "openai_api_key = \"insert your key here\"  # Replace with your actual OpenAI API key\n",
    "embeddings = OpenAIEmbeddings(openai_api_key=\"insert your key here\")\n",
    "\n",
    "# Step 4: Embed the documents\n",
    "# Extract the text from the documents\n",
    "texts = [doc.page_content for doc in documents]\n",
    "# Embed the texts\n",
    "embedded_docs = embeddings.embed_documents(texts)\n",
    "\n",
    "# Step 5: Create the FAISS vector store from the embedded documents\n",
    "vectordb = FAISS.from_embeddings(embedded_docs, documents)\n",
    "\n",
    "# Step 6: Convert to retriever\n",
    "retriever = vectordb.as_retriever()\n",
    "\n",
    "# Now you can use the retriever\n"
   ]
  },
  {
   "cell_type": "code",
   "execution_count": null,
   "id": "be0c7209",
   "metadata": {},
   "outputs": [],
   "source": [
    "from langchain.tools.retriever import create_retriever_tool\n",
    "retrieval_tool=create_retriever_tool(retriever,\"langsmith_search\", \"search for info about langsmith\")"
   ]
  },
  {
   "cell_type": "code",
   "execution_count": null,
   "id": "50f61bca",
   "metadata": {},
   "outputs": [],
   "source": [
    "retrieval_tool.name"
   ]
  },
  {
   "cell_type": "code",
   "execution_count": null,
   "id": "2dd765ef",
   "metadata": {},
   "outputs": [],
   "source": [
    "from langchain_community.utilities import ArxivAPIWrapper\n",
    "from langchain_community.tools import ArxivQueryRun"
   ]
  },
  {
   "cell_type": "code",
   "execution_count": 31,
   "id": "c83ae5b8",
   "metadata": {},
   "outputs": [],
   "source": [
    "arxiv_wrapper=ArxivAPIWrapper(top_k_results=1,doc_content_chars_max=20)\n",
    "arxiv=ArxivQueryRun(api_wrapper=arxiv_wrapper)\n",
    "arxiv.name"
   ]
  },
  {
   "cell_type": "code",
   "execution_count": null,
   "id": "640cab81",
   "metadata": {},
   "outputs": [],
   "source": [
    "tools=[wiki,arxiv,retrieval_tool]\n",
    "tools"
   ]
  },
  {
   "cell_type": "code",
   "execution_count": null,
   "id": "6009b040",
   "metadata": {},
   "outputs": [],
   "source": [
    "#LLM\n",
    "from dotenv import load_dotenv\n",
    "\n",
    "load_dotenv\n",
    "import os\n",
    "os.environ[\"OPENAI_API_KEY\"]=os.getenv(\"OPENAI_API_KEY\")\n",
    "from langchain_openai import ChatOpenAI\n",
    "\n",
    "llm=ChatOpenAI(model=\"gpt 3.5-turbo-0125\", temprature=0)\n",
    "\n"
   ]
  },
  {
   "cell_type": "code",
   "execution_count": null,
   "id": "f3a2690e",
   "metadata": {},
   "outputs": [],
   "source": [
    "#prompt template\n",
    "from langchain import hub\n",
    "#get the prompt from hub\n",
    "prompt=hub.pull(\"hwcase17/openai-functions-agents\")\n",
    "prompt.messages"
   ]
  },
  {
   "cell_type": "code",
   "execution_count": null,
   "id": "464a4285",
   "metadata": {},
   "outputs": [],
   "source": [
    "#Agents\n",
    "from langchain.agents import create_openai_tools_agent\n",
    "agent= create_openai_tools_agent(llm, tools,prompt)"
   ]
  },
  {
   "cell_type": "code",
   "execution_count": null,
   "id": "768fc728",
   "metadata": {},
   "outputs": [],
   "source": [
    "## to run agent we need agent executer\n",
    "from langchain.agents import AgentExecutor\n",
    "agent_executer=AgentExecutor(agnet=agent, tools=tools,verbose=True)\n",
    "agent_executer"
   ]
  },
  {
   "cell_type": "code",
   "execution_count": null,
   "id": "1bb96468",
   "metadata": {},
   "outputs": [],
   "source": [
    "agent_executer.invoke(\"input\":\"Tell me about Langsmith\")"
   ]
  },
  {
   "cell_type": "code",
   "execution_count": null,
   "id": "a6f1b9e9",
   "metadata": {},
   "outputs": [],
   "source": []
  }
 ],
 "metadata": {
  "kernelspec": {
   "display_name": "Python 3 (ipykernel)",
   "language": "python",
   "name": "python3"
  },
  "language_info": {
   "codemirror_mode": {
    "name": "ipython",
    "version": 3
   },
   "file_extension": ".py",
   "mimetype": "text/x-python",
   "name": "python",
   "nbconvert_exporter": "python",
   "pygments_lexer": "ipython3",
   "version": "3.9.12"
  }
 },
 "nbformat": 4,
 "nbformat_minor": 5
}
